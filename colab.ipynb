{
 "cells": [
  {
   "cell_type": "code",
   "execution_count": null,
   "outputs": [],
   "source": [
    "!pip install transformers scipy torch inquirer rwkvstic gradio"
   ],
   "metadata": {
    "collapsed": false
   }
  },
  {
   "cell_type": "code",
   "execution_count": null,
   "metadata": {
    "collapsed": true,
    "pycharm": {
     "is_executing": true
    }
   },
   "outputs": [],
   "source": [
    "config_text = \"\"\"\n",
    "from rwkvstic.agnostic.backends import TORCH, TORCH_QUANT\n",
    "import torch\n",
    "\n",
    "config = {\n",
    "    \"path\": \"https://huggingface.co/BlinkDL/rwkv-4-pile-1b5/resolve/main/RWKV-4-Pile-1B5-Instruct-test2-20230209.pth\",\n",
    "    \"mode\": TORCH,\n",
    "    \"runtimedtype\": torch.float32,\n",
    "    \"useGPU\": torch.cuda.is_available(),\n",
    "    \"dtype\": torch.float32\n",
    "}\n",
    "\n",
    "title = \"Bot Interface\"\n",
    "\"\"\"\n",
    "with open(\"config.py\", \"w\") as f:\n",
    "    f.write(config_text)"
   ]
  },
  {
   "cell_type": "code",
   "execution_count": null,
   "outputs": [],
   "source": [
    "!python app.py"
   ],
   "metadata": {
    "collapsed": false
   }
  }
 ],
 "metadata": {
  "kernelspec": {
   "display_name": "Python 3",
   "language": "python",
   "name": "python3"
  },
  "language_info": {
   "codemirror_mode": {
    "name": "ipython",
    "version": 2
   },
   "file_extension": ".py",
   "mimetype": "text/x-python",
   "name": "python",
   "nbconvert_exporter": "python",
   "pygments_lexer": "ipython2",
   "version": "2.7.6"
  }
 },
 "nbformat": 4,
 "nbformat_minor": 0
}
